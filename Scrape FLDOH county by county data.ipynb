{
 "cells": [
  {
   "cell_type": "code",
   "execution_count": 37,
   "metadata": {},
   "outputs": [],
   "source": [
    "import requests, json, csv, datetime\n",
    "from collections import OrderedDict"
   ]
  },
  {
   "cell_type": "code",
   "execution_count": 38,
   "metadata": {},
   "outputs": [],
   "source": [
    "url = \"https://services1.arcgis.com/CY1LXxl9zlJeBuRZ/ArcGIS/rest/services/Florida_COVID19_Cases_by_County/FeatureServer/0/query?f=json&where=1%3D1&returnGeometry=false&outFields=*\"\n",
    "content = requests.get(url).content\n",
    "data = json.loads(content)\n",
    "timestamp = datetime.datetime.now().strftime(\"%Y-%m-%d_%H%M\")"
   ]
  },
  {
   "cell_type": "code",
   "execution_count": 39,
   "metadata": {},
   "outputs": [],
   "source": [
    "masterlist = []\n",
    "for i, county in enumerate(data['features']):\n",
    "    countyname = data['features'][i]['attributes']['County']\n",
    "    countypeople = data['features'][i]['attributes']['Cases']\n",
    "    for person in countypeople.split(\"||\"):\n",
    "        line = OrderedDict()\n",
    "        line['county'] = countyname\n",
    "        line['gender'] = person.split(\",\")[0].split(\":\")[1].strip()\n",
    "        line['age'] = person.split(\",\")[1].split(\":\")[1].strip()\n",
    "        line['travel'] = person.split(\",\")[2].split(\"?\")[1].strip()\n",
    "        masterlist.append(line)"
   ]
  },
  {
   "cell_type": "code",
   "execution_count": 40,
   "metadata": {},
   "outputs": [],
   "source": [
    "with open(f\"FL-{timestamp}.csv\", \"w\", newline=\"\") as outfile:\n",
    "    writer = csv.writer(outfile)\n",
    "    writer.writerow(list(masterlist[0].keys()))\n",
    "    for row in masterlist:\n",
    "        writer.writerow(list(row.values()))"
   ]
  },
  {
   "cell_type": "code",
   "execution_count": 41,
   "metadata": {},
   "outputs": [],
   "source": [
    "# https://services1.arcgis.com/CY1LXxl9zlJeBuRZ/ArcGIS/rest/services"
   ]
  }
 ],
 "metadata": {
  "kernelspec": {
   "display_name": "Python 3",
   "language": "python",
   "name": "python3"
  },
  "language_info": {
   "codemirror_mode": {
    "name": "ipython",
    "version": 3
   },
   "file_extension": ".py",
   "mimetype": "text/x-python",
   "name": "python",
   "nbconvert_exporter": "python",
   "pygments_lexer": "ipython3",
   "version": "3.8.1"
  }
 },
 "nbformat": 4,
 "nbformat_minor": 4
}

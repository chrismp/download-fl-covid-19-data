{
 "cells": [
  {
   "cell_type": "code",
   "execution_count": 1,
   "metadata": {},
   "outputs": [],
   "source": [
    "import requests, json, csv, datetime, filecmp, os, sys, glob\n",
    "from collections import OrderedDict"
   ]
  },
  {
   "cell_type": "code",
   "execution_count": 2,
   "metadata": {},
   "outputs": [],
   "source": [
    "url = \"https://services1.arcgis.com/CY1LXxl9zlJeBuRZ/ArcGIS/rest/services/Detailed_COVID_19_Case_Data/FeatureServer/0/query?f=json&where=1%3D1&returnGeometry=false&outFields=*\"\n",
    "response = requests.get(url).content\n",
    "j = requests.get(url).json()"
   ]
  },
  {
   "cell_type": "code",
   "execution_count": 3,
   "metadata": {},
   "outputs": [],
   "source": [
    "cases = [obj[\"attributes\"] for obj in j[\"features\"]]\n",
    "headers = cases[0].keys()\n",
    "data = []\n",
    "for case in cases:\n",
    "    data.append(OrderedDict(case))"
   ]
  },
  {
   "cell_type": "code",
   "execution_count": 4,
   "metadata": {},
   "outputs": [],
   "source": [
    "tmpf = \"temp.csv\"\n",
    "with open(tmpf, \"w\", newline=\"\") as outfile:\n",
    "    writer = csv.writer(outfile)\n",
    "    writer.writerow(list(cases[0].keys()))\n",
    "    for row in cases:\n",
    "        writer.writerow(list(row.values()))"
   ]
  },
  {
   "cell_type": "code",
   "execution_count": 5,
   "metadata": {},
   "outputs": [],
   "source": [
    "rawFiles = sorted([f for f in os.listdir(\"output/raw/\")])\n",
    "latestFile = rawFiles[-1]"
   ]
  },
  {
   "cell_type": "code",
   "execution_count": 6,
   "metadata": {},
   "outputs": [],
   "source": [
    "tempAndLatestFileSameSize = os.path.getsize(\"output/raw/\"+latestFile) == os.path.getsize(tmpf)\n",
    "if tempAndLatestFileSameSize:\n",
    "    print(\"Downloaded file is not an update. Removing '\"+tmpf+\"''\")\n",
    "    os.remove(tmpf)\n",
    "    exit()"
   ]
  },
  {
   "cell_type": "code",
   "execution_count": 7,
   "metadata": {},
   "outputs": [],
   "source": [
    "os.rename(tmpf,sys.argv[1])"
   ]
  },
  {
   "cell_type": "code",
   "execution_count": 14,
   "metadata": {},
   "outputs": [],
   "source": [
    "# https://services1.arcgis.com/CY1LXxl9zlJeBuRZ/ArcGIS/rest/services"
   ]
  }
 ],
 "metadata": {
  "kernelspec": {
   "display_name": "Python 3",
   "language": "python",
   "name": "python3"
  },
  "language_info": {
   "codemirror_mode": {
    "name": "ipython",
    "version": 3
   },
   "file_extension": ".py",
   "mimetype": "text/x-python",
   "name": "python",
   "nbconvert_exporter": "python",
   "pygments_lexer": "ipython3",
   "version": "3.8.1"
  }
 },
 "nbformat": 4,
 "nbformat_minor": 4
}

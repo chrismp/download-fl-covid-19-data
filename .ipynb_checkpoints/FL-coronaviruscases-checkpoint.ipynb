{
 "cells": [
  {
   "cell_type": "code",
   "execution_count": 78,
   "metadata": {},
   "outputs": [],
   "source": [
    "from selenium import webdriver\n",
    "from selenium.webdriver.common.keys import Keys\n",
    "import simplejson as json\n",
    "\n",
    "import csv\n",
    "import datetime\n",
    "from collections import OrderedDict\n"
   ]
  },
  {
   "cell_type": "code",
   "execution_count": 79,
   "metadata": {},
   "outputs": [],
   "source": [
    "timestamp = datetime.datetime.now().strftime(\"%Y-%m-%d_%H%M\")"
   ]
  },
  {
   "cell_type": "code",
   "execution_count": 67,
   "metadata": {},
   "outputs": [],
   "source": [
    "landingpage = \"https://fdoh.maps.arcgis.com/apps/opsdashboard/index.html#/8d0de33f260d444c852a615dc7837c86\"\n",
    "#countiesurl = \"https://services1.arcgis.com/CY1LXxl9zlJeBuRZ/arcgis/rest/services/Florida_COVID19_Cases/FeatureServer/0/query?f=json&where=Counts%20IS%20NOT%20NULL&returnGeometry=false&spatialRel=esriSpatialRelIntersects&geometry=%7B%22xmin%22%3A-11142122.28929185%2C%22ymin%22%3A2628176.138279221%2C%22xmax%22%3A-7150274.924127252%2C%22ymax%22%3A3988143.7455289243%2C%22spatialReference%22%3A%7B%22wkid%22%3A102100%7D%7D&geometryType=esriGeometryEnvelope&inSR=102100&outFields=*&orderByFields=Counts%20desc&outSR=102100&resultOffset=0\"\n",
    "countiesurl = 'https://services1.arcgis.com/CY1LXxl9zlJeBuRZ/arcgis/rest/services/Florida_COVID19_Cases/FeatureServer/0/query?f=json&where=Counts%20IS%20NOT%20NULL&returnGeometry=false&spatialRel=esriSpatialRelIntersects&geometry=%7B%22xmin%22%3A-11142122.28929185%2C%22ymin%22%3A2628176.138279221%2C%22xmax%22%3A-7150274.924127252%2C%22ymax%22%3A3988143.7455289243%2C%22spatialReference%22%3A%7B%22wkid%22%3A102100%7D%7D&geometryType=esriGeometryEnvelope&inSR=102100&outFields=*&orderByFields=Counts%20desc&outSR=102100&resultOffset=0'\n",
    "\n",
    "stateurl = \"https://services1.arcgis.com/0MSEUqKaxRlEPj5g/arcgis/rest/services/Coronavirus_2019_nCoV_Cases/FeatureServer/1/query?f=json&where=1%3D1&returnGeometry=true&spatialRel=esriSpatialRelIntersects&maxAllowableOffset=4891&geometry=%7B%22xmin%22%3A-12523442.71424378%2C%22ymin%22%3A2504688.542850282%2C%22xmax%22%3A-10018754.171395406%2C%22ymax%22%3A5009377.085698657%2C%22spatialReference%22%3A%7B%22wkid%22%3A102100%2C%22latestWkid%22%3A3857%7D%7D&geometryType=esriGeometryEnvelope&inSR=102100&outFields=*&outSR=102100&resultType=tile\"\n",
    "\n",
    "chromelocation = r\"c:\\helpers\\chromedriver.exe\"\n",
    "browser = webdriver.Chrome(executable_path=chromelocation)\n",
    "browser.get(landingpage)"
   ]
  },
  {
   "cell_type": "code",
   "execution_count": 68,
   "metadata": {},
   "outputs": [],
   "source": [
    "browser.get(countiesurl)"
   ]
  },
  {
   "cell_type": "code",
   "execution_count": 69,
   "metadata": {},
   "outputs": [],
   "source": [
    "rawjson = browser.page_source.split('pre-wrap;\">')[1].split(\"</pre\")[0]"
   ]
  },
  {
   "cell_type": "code",
   "execution_count": 70,
   "metadata": {},
   "outputs": [],
   "source": [
    "data = json.loads(rawjson)"
   ]
  },
  {
   "cell_type": "code",
   "execution_count": 71,
   "metadata": {},
   "outputs": [],
   "source": [
    "masterlist = []\n",
    "for i, county in enumerate(data['features']):\n",
    "    countyname = data['features'][i]['attributes']['COUNTYNAME']\n",
    "    countypeople = data['features'][i]['attributes']['Cases']\n",
    "    for person in countypeople.split(\"||\"):\n",
    "        line = OrderedDict()\n",
    "        line['county'] = countyname\n",
    "        line['gender'] = person.split(\",\")[0].split(\":\")[1].strip()\n",
    "        line['age'] = person.split(\",\")[1].split(\":\")[1].strip()\n",
    "        line['travel'] = person.split(\",\")[2].split(\"?\")[1].strip()\n",
    "        masterlist.append(line)\n"
   ]
  },
  {
   "cell_type": "code",
   "execution_count": 82,
   "metadata": {},
   "outputs": [],
   "source": [
    "with open(f\"FL-{timestamp}.csv\", \"w\", newline=\"\") as outfile:\n",
    "    writer = csv.writer(outfile)\n",
    "    writer.writerow(list(masterlist[0].keys()))\n",
    "    for row in masterlist:\n",
    "        writer.writerow(list(row.values()))"
   ]
  },
  {
   "cell_type": "code",
   "execution_count": 83,
   "metadata": {},
   "outputs": [],
   "source": [
    "browser.close()"
   ]
  },
  {
   "cell_type": "code",
   "execution_count": null,
   "metadata": {},
   "outputs": [],
   "source": []
  }
 ],
 "metadata": {
  "kernelspec": {
   "display_name": "Python 3",
   "language": "python",
   "name": "python3"
  },
  "language_info": {
   "codemirror_mode": {
    "name": "ipython",
    "version": 3
   },
   "file_extension": ".py",
   "mimetype": "text/x-python",
   "name": "python",
   "nbconvert_exporter": "python",
   "pygments_lexer": "ipython3",
   "version": "3.8.1"
  }
 },
 "nbformat": 4,
 "nbformat_minor": 2
}
